{
 "cells": [
  {
   "cell_type": "markdown",
   "metadata": {},
   "source": [
    "# 2"
   ]
  },
  {
   "cell_type": "code",
   "execution_count": 1,
   "metadata": {},
   "outputs": [
    {
     "name": "stdout",
     "output_type": "stream",
     "text": [
      "Chi-square statistic: 4.5\n",
      "P-value: 0.033894853524689295\n"
     ]
    }
   ],
   "source": [
    "import scipy.stats as stats\n",
    "\n",
    "# Observed frequencies\n",
    "observed = [115, 85]\n",
    "\n",
    "# Expected frequencies (assuming the coin is fair)\n",
    "total_flips = sum(observed)\n",
    "expected = [total_flips / 2, total_flips / 2]\n",
    "\n",
    "# Perform chi-square test\n",
    "chi2_stat, p_val = stats.chisquare(f_obs=observed, f_exp=expected)\n",
    "\n",
    "# Significance levels\n",
    "alpha_1 = 0.05\n",
    "alpha_2 = 0.01\n",
    "\n",
    "# Print results\n",
    "print(f\"Chi-square statistic: {chi2_stat}\")\n",
    "print(f\"P-value: {p_val}\")"
   ]
  },
  {
   "cell_type": "markdown",
   "metadata": {},
   "source": [
    "# 3"
   ]
  },
  {
   "cell_type": "code",
   "execution_count": 2,
   "metadata": {},
   "outputs": [
    {
     "name": "stdout",
     "output_type": "stream",
     "text": [
      "Chi-square statistic: 23.279999999999998\n",
      "P-value: 0.005597179700206032\n"
     ]
    }
   ],
   "source": [
    "# Frecuencias observadas de los dígitos\n",
    "observed_digits = [17, 31, 29, 18, 14, 20, 35, 30, 20, 36]\n",
    "\n",
    "# Frecuencia esperada para cada dígito (distribución uniforme)\n",
    "total_digits = sum(observed_digits)\n",
    "expected_digits = [total_digits / 10] * 10\n",
    "\n",
    "# Realizar la prueba de chi-cuadrado\n",
    "chi2_stat_digits, p_val_digits = stats.chisquare(f_obs=observed_digits, f_exp=expected_digits)\n",
    "\n",
    "# Imprimir resultados\n",
    "print(f\"Chi-square statistic: {chi2_stat_digits}\")\n",
    "print(f\"P-value: {p_val_digits}\")"
   ]
  },
  {
   "cell_type": "markdown",
   "metadata": {},
   "source": [
    "# 4"
   ]
  },
  {
   "cell_type": "code",
   "execution_count": 3,
   "metadata": {},
   "outputs": [
    {
     "name": "stdout",
     "output_type": "stream",
     "text": [
      "Chi-square statistic: 11.960000000000024\n",
      "P-value: 0.035340002687752226\n",
      "Degrees of freedom: 5\n"
     ]
    }
   ],
   "source": [
    "# Frecuencias observadas de niños en familias de 5 hijos\n",
    "observed_families = [18, 56, 110, 88, 40, 8]\n",
    "\n",
    "# Total de familias encuestadas\n",
    "total_families = sum(observed_families)\n",
    "\n",
    "# Probabilidades esperadas bajo la hipótesis de que los nacimientos de varones y mujeres son igualmente probables\n",
    "probabilities = [stats.binom.pmf(k, 5, 0.5) for k in range(6)]\n",
    "\n",
    "# Frecuencias esperadas\n",
    "expected_families = [p * total_families for p in probabilities]\n",
    "\n",
    "# Grados de libertad\n",
    "degrees_of_freedom = len(observed_families) - 1\n",
    "\n",
    "# Realizar la prueba de chi-cuadrado\n",
    "chi2_stat_families, p_val_families = stats.chisquare(f_obs=observed_families, f_exp=expected_families)\n",
    "\n",
    "# Imprimir resultados\n",
    "print(f\"Chi-square statistic: {chi2_stat_families}\")\n",
    "print(f\"P-value: {p_val_families}\")\n",
    "print(f\"Degrees of freedom: {degrees_of_freedom}\")"
   ]
  },
  {
   "cell_type": "markdown",
   "metadata": {},
   "source": [
    "# 5"
   ]
  },
  {
   "cell_type": "code",
   "execution_count": 4,
   "metadata": {},
   "outputs": [
    {
     "name": "stdout",
     "output_type": "stream",
     "text": [
      "Wilcoxon test statistic: 3.5\n",
      "P-value (W test): 0.21875\n",
      "Mann-Whitney U test statistic: 24.0\n",
      "P-value (U test): 0.1735817526501633\n"
     ]
    }
   ],
   "source": [
    "import numpy as np\n",
    "from scipy.stats import wilcoxon, mannwhitneyu\n",
    "\n",
    "# Datos de la muestra\n",
    "tiempos_espera = np.array([3.8, 5.3, 3.5, 4.5, 7.2, 5.1])\n",
    "\n",
    "# Hipótesis nula: El tiempo de espera medio es de 4 minutos o menos\n",
    "# Hipótesis alternativa: El tiempo de espera medio es mayor de 4 minutos\n",
    "\n",
    "# Prueba W de Wilcoxon\n",
    "w_stat, p_val_w = wilcoxon(tiempos_espera - 4)\n",
    "print(f\"Wilcoxon test statistic: {w_stat}\")\n",
    "print(f\"P-value (W test): {p_val_w}\")\n",
    "\n",
    "# Prueba U de Mann-Whitney\n",
    "# Comparar con una muestra hipotética de tiempos de espera de 4 minutos\n",
    "hipotetica = np.array([4] * len(tiempos_espera))\n",
    "u_stat, p_val_u = mannwhitneyu(tiempos_espera, hipotetica, alternative='greater')\n",
    "print(f\"Mann-Whitney U test statistic: {u_stat}\")\n",
    "print(f\"P-value (U test): {p_val_u}\")"
   ]
  },
  {
   "cell_type": "code",
   "execution_count": 5,
   "metadata": {},
   "outputs": [
    {
     "name": "stdout",
     "output_type": "stream",
     "text": [
      "Mann-Whitney U test statistic: 70.0\n",
      "P-value (U test): 0.003108003108003108\n",
      "Media esperada (Eu): 40.0\n",
      "Varianza (Vu): 126.66666666666667\n",
      "Z-value: 2.665569949915916\n",
      "Manual P-value (U test): 0.003842897027606651\n"
     ]
    }
   ],
   "source": [
    "import numpy as np\n",
    "from scipy.stats import mannwhitneyu, norm\n",
    "\n",
    "aleacion_I = np.array([18.3, 16.4, 22.7, 17.8, 18.9, 25.3, 16.1, 24.2])\n",
    "aleacion_II = np.array([12.6, 14.1, 20.5, 10.7, 15.9, 19.6, 12.9, 15.2, 11.8, 14.7])\n",
    "\n",
    "# Prueba U de Mann-Whitney\n",
    "u_stat_aleacion, p_val_u_aleacion = mannwhitneyu(aleacion_I, aleacion_II, alternative='greater')\n",
    "print(f\"Mann-Whitney U test statistic: {u_stat_aleacion}\")\n",
    "print(f\"P-value (U test): {p_val_u_aleacion}\")\n",
    "\n",
    "nI = len(aleacion_I)\n",
    "nII = len(aleacion_II)\n",
    "\n",
    "# Calcular la media esperada (Eu) y la varianza (Vu) de la estadística U\n",
    "Eu = nI * nII / 2\n",
    "Vu = nI * nII * (nI + nII + 1) / 12\n",
    "\n",
    "print(f\"Media esperada (Eu): {Eu}\")\n",
    "print(f\"Varianza (Vu): {Vu}\")\n",
    "\n",
    "# Calcular el valor Z\n",
    "Z = (u_stat_aleacion - Eu) / np.sqrt(Vu)\n",
    "print(f\"Z-value: {Z}\")\n",
    "\n",
    "# Calcular el p-valor usando la distribución normal estándar\n",
    "p_val_manual = 1 - norm.cdf(Z)\n",
    "print(f\"Manual P-value (U test): {p_val_manual}\")"
   ]
  },
  {
   "cell_type": "markdown",
   "metadata": {},
   "source": [
    "# 11"
   ]
  },
  {
   "cell_type": "code",
   "execution_count": 6,
   "metadata": {},
   "outputs": [
    {
     "name": "stdout",
     "output_type": "stream",
     "text": [
      "Chi-square statistic: 0.5597467666433183\n",
      "P-value: 0.9055823451833487\n",
      "Degrees of freedom: 3\n",
      "Expected frequencies:\n",
      "[[ 4.984375  8.15625   9.96875   5.890625]\n",
      " [ 6.015625  9.84375  12.03125   7.109375]]\n"
     ]
    }
   ],
   "source": [
    "import numpy as np\n",
    "\n",
    "import scipy.stats as stats\n",
    "\n",
    "# Crear la tabla de contingencia\n",
    "observed_table = np.array([[5, 8, 9, 7],\n",
    "                           [6, 10, 13, 6]])\n",
    "\n",
    "# Realizar la prueba de chi-cuadrado de independencia\n",
    "chi2_stat, p_val, dof, expected_table = stats.chi2_contingency(observed_table)\n",
    "\n",
    "# Imprimir resultados\n",
    "print(f\"Chi-square statistic: {chi2_stat}\")\n",
    "print(f\"P-value: {p_val}\")\n",
    "print(f\"Degrees of freedom: {dof}\")\n",
    "print(\"Expected frequencies:\")\n",
    "print(expected_table)"
   ]
  },
  {
   "cell_type": "code",
   "execution_count": 7,
   "metadata": {},
   "outputs": [
    {
     "name": "stdout",
     "output_type": "stream",
     "text": [
      "Chi-square statistic: 8.653833570525151\n",
      "P-value: 0.013208208517685652\n",
      "Degrees of freedom: 2\n",
      "Expected frequencies:\n",
      "[[148.69968051  25.42172524  43.87859425]\n",
      " [278.30031949  47.57827476  82.12140575]]\n",
      "Chi-square statistic (head injury): 0.000369765703052419\n",
      "P-value (head injury): 0.9846581896143868\n",
      "Degrees of freedom (head injury): 1\n",
      "Expected frequencies (head injury):\n",
      "[[19.44221106 33.55778894]\n",
      " [53.55778894 92.44221106]]\n"
     ]
    }
   ],
   "source": [
    "import numpy as np\n",
    "from scipy.stats import chi2_contingency\n",
    "\n",
    "# Crear la tabla de contingencia\n",
    "observed_table = np.array([[165, 20, 33],\n",
    "                           [262, 53, 93]])\n",
    "\n",
    "# Realizar la prueba de chi-cuadrado de independencia\n",
    "chi2_stat, p_val, dof, expected_table = chi2_contingency(observed_table)\n",
    "\n",
    "# Imprimir resultados\n",
    "print(f\"Chi-square statistic: {chi2_stat}\")\n",
    "print(f\"P-value: {p_val}\")\n",
    "print(f\"Degrees of freedom: {dof}\")\n",
    "print(\"Expected frequencies:\")\n",
    "print(expected_table)\n",
    "\n",
    "# Crear una nueva tabla de contingencia solo para los que recibieron daño en la cabeza\n",
    "observed_head_injury = np.array([[20, 33],\n",
    "                                 [53, 93]])\n",
    "\n",
    "# Realizar la prueba de chi-cuadrado de independencia\n",
    "chi2_stat_head, p_val_head, dof_head, expected_head = chi2_contingency(observed_head_injury)\n",
    "\n",
    "# Imprimir resultados\n",
    "print(f\"Chi-square statistic (head injury): {chi2_stat_head}\")\n",
    "print(f\"P-value (head injury): {p_val_head}\")\n",
    "print(f\"Degrees of freedom (head injury): {dof_head}\")\n",
    "print(\"Expected frequencies (head injury):\")\n",
    "print(expected_head)"
   ]
  },
  {
   "cell_type": "markdown",
   "metadata": {},
   "source": [
    "# 13"
   ]
  },
  {
   "cell_type": "code",
   "execution_count": 19,
   "metadata": {},
   "outputs": [
    {
     "name": "stdout",
     "output_type": "stream",
     "text": [
      "Wilcoxon test statistic: 0.0\n",
      "P-value (W test): 1.9073486328125e-06\n",
      "Mann-Whitney U test statistic: 23.0\n",
      "P-value: 1.683758478084451e-06\n",
      "Media esperada (Eu): 200.0\n",
      "Varianza (Vu): 1366.6666666666667\n",
      "Z-value: -4.787865760084065\n",
      "Manual P-value (U test): 1.6856433537881799e-06\n",
      "Suma de rangos para la muestra X: 233.0\n",
      "Media esperada de la suma de rangos: 410.0\n",
      "Varianza de la suma de rangos: 1366.6666666666667\n",
      "Estadística Z: -4.787865760084065\n",
      "P-valor: 1.6856433537881799e-06\n"
     ]
    }
   ],
   "source": [
    "import numpy as np\n",
    "from scipy.stats import rankdata, norm\n",
    "\n",
    "# Datos de las muestras\n",
    "muestra_X = np.array([-2.604, -2.594, -1.921, -1.756, -1.449, -2.346, -1.113, 0.207, 0.356, 0.873,\n",
    "                      -0.695, -0.676, -0.624, -0.555, -0.157, 0.897, 1.074, 1.125, 1.629, 1.796])\n",
    "muestra_Y = np.array([0.442, 0.786, 0.932, 0.932, 1.691, 2.015, 2.174, 2.315, 2.630, 2.737,\n",
    "                      1.697, 1.777, 2.961, 2.976, 6.297, 3.178, 3.610, 3.714, 4.559, 4.847])\n",
    "\n",
    "\n",
    "# Prueba W de Wilcoxon\n",
    "w_stat, p_val_w = wilcoxon(muestra_X, muestra_Y)\n",
    "print(f\"Wilcoxon test statistic: {w_stat}\")\n",
    "print(f\"P-value (W test): {p_val_w}\")\n",
    "# Realizar la prueba U de Mann-Whitney\n",
    "\n",
    "u_stat, p_val = mannwhitneyu(muestra_X, muestra_Y, alternative='two-sided', use_continuity=False)\n",
    "\n",
    "# Imprimir resultados\n",
    "print(f\"Mann-Whitney U test statistic: {u_stat}\")\n",
    "print(f\"P-value: {p_val}\")\n",
    "\n",
    "n_X = len(muestra_X)\n",
    "n_Y = len(muestra_Y)\n",
    "\n",
    "eu = n_X * n_Y / 2\n",
    "print(f\"Media esperada (Eu): {eu}\")\n",
    "\n",
    "vu = n_X * n_Y * (n_X + n_Y + 1) / 12\n",
    "print(f\"Varianza (Vu): {vu}\")\n",
    "\n",
    "\n",
    "# Calcular la estadística Z\n",
    "Z = (u_stat - eu) / np.sqrt(vu)\n",
    "print(f\"Z-value: {Z}\")\n",
    "\n",
    "# Calcular el p-valor usando la distribución normal estándar\n",
    "p_val_manual = 2 * (1 - norm.cdf(abs(Z)))\n",
    "print(f\"Manual P-value (U test): {p_val_manual}\")\n",
    "\n",
    "\n",
    "\n",
    "# Combinar las muestras\n",
    "combined_samples = np.concatenate([muestra_X, muestra_Y])\n",
    "\n",
    "# Calcular los rangos\n",
    "ranks = rankdata(combined_samples)\n",
    "\n",
    "# Suma de rangos para la muestra X\n",
    "ranks_X = ranks[:len(muestra_X)]\n",
    "T_X = np.sum(ranks_X)\n",
    "\n",
    "# Calcular la media y la varianza de la suma de rangos\n",
    "n_X = len(muestra_X)\n",
    "n_Y = len(muestra_Y)\n",
    "E_T_X = n_X * (n_X + n_Y + 1) / 2\n",
    "V_T_X = n_X * n_Y * (n_X + n_Y + 1) / 12\n",
    "\n",
    "# Calcular la estadística Z\n",
    "Z_X = (T_X - E_T_X) / np.sqrt(V_T_X)\n",
    "\n",
    "# Calcular el p-valor\n",
    "p_val_Z_X = 2 * (1 - norm.cdf(abs(Z_X)))\n",
    "\n",
    "# Imprimir resultados\n",
    "print(f\"Suma de rangos para la muestra X: {T_X}\")\n",
    "print(f\"Media esperada de la suma de rangos: {E_T_X}\")\n",
    "print(f\"Varianza de la suma de rangos: {V_T_X}\")\n",
    "print(f\"Estadística Z: {Z_X}\")\n",
    "print(f\"P-valor: {p_val_Z_X}\")"
   ]
  },
  {
   "cell_type": "markdown",
   "metadata": {},
   "source": [
    "# 14"
   ]
  },
  {
   "cell_type": "code",
   "execution_count": 12,
   "metadata": {},
   "outputs": [
    {
     "name": "stdout",
     "output_type": "stream",
     "text": [
      "Mann-Whitney U test statistic: 17.0\n",
      "P-value: 0.0864107329737\n",
      "Media esperada (Eu): 10.0\n",
      "Varianza (Vu): 16.666666666666668\n",
      "Z-value: 1.7146428199482247\n",
      "Manual P-value (U test): 0.0864107329737\n"
     ]
    }
   ],
   "source": [
    "import numpy as np\n",
    "from scipy.stats import mannwhitneyu, norm\n",
    "\n",
    "# Datos de la edad al diagnóstico de diabetes tipo II\n",
    "hombres = np.array([19, 22, 16, 29, 24])\n",
    "mujeres = np.array([20, 11, 17, 12])\n",
    "\n",
    "# Realizar la prueba U de Mann-Whitney\n",
    "u_stat, p_val = mannwhitneyu(hombres, mujeres, alternative='two-sided', method='asymptotic', use_continuity=False)\n",
    "\n",
    "# Imprimir resultados\n",
    "print(f\"Mann-Whitney U test statistic: {u_stat}\")\n",
    "print(f\"P-value: {p_val}\")\n",
    "\n",
    "n_h = len(hombres)\n",
    "n_m = len(mujeres)\n",
    "\n",
    "e = n_h * n_m / 2\n",
    "print(f\"Media esperada (Eu): {e}\")\n",
    "\n",
    "v = (n_h * n_m) * (n_h + n_m + 1) / 12\n",
    "print(f\"Varianza (Vu): {v}\")\n",
    "\n",
    "z = (u_stat - e) / np.sqrt(v)\n",
    "print(f\"Z-value: {z}\")\n",
    "\n",
    "p_val_manual = 2 * norm.cdf(-z)\n",
    "print(f\"Manual P-value (U test): {p_val_manual}\")"
   ]
  }
 ],
 "metadata": {
  "kernelspec": {
   "display_name": "Python 3",
   "language": "python",
   "name": "python3"
  },
  "language_info": {
   "codemirror_mode": {
    "name": "ipython",
    "version": 3
   },
   "file_extension": ".py",
   "mimetype": "text/x-python",
   "name": "python",
   "nbconvert_exporter": "python",
   "pygments_lexer": "ipython3",
   "version": "3.12.1"
  }
 },
 "nbformat": 4,
 "nbformat_minor": 2
}
