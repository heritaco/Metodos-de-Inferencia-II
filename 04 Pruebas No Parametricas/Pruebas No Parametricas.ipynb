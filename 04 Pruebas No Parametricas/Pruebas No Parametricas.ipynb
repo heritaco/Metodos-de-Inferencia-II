{
 "cells": [
  {
   "cell_type": "code",
   "execution_count": 2,
   "metadata": {},
   "outputs": [
    {
     "name": "stdout",
     "output_type": "stream",
     "text": [
      "Preference  A  B\n",
      "Gender          \n",
      "Female      2  1\n",
      "Male        1  2\n"
     ]
    }
   ],
   "source": [
    "import pandas as pd\n",
    "\n",
    "def contingency_table(data, col1, col2):\n",
    "    table = pd.crosstab(data[col1], data[col2])\n",
    "    return table\n",
    "\n",
    "# Example usage\n",
    "data = pd.DataFrame({\n",
    "    'Gender': ['Male', 'Female', 'Female', 'Male', 'Female', 'Male'],\n",
    "    'Preference': ['A', 'B', 'A', 'B', 'A', 'B']\n",
    "})\n",
    "\n",
    "table = contingency_table(data, 'Gender', 'Preference')\n",
    "print(table)\n",
    "\n"
   ]
  },
  {
   "cell_type": "code",
   "execution_count": 3,
   "metadata": {},
   "outputs": [
    {
     "name": "stdout",
     "output_type": "stream",
     "text": [
      "    A   B\n",
      "X  20  33\n",
      "Y  53  93\n",
      "X     53\n",
      "Y    146\n",
      "dtype: int64\n",
      "A     73\n",
      "B    126\n",
      "dtype: int64\n",
      "199\n"
     ]
    }
   ],
   "source": [
    "fila1 = [20, 33]\n",
    "fila2 = [53, 93]\n",
    "\n",
    "df = pd.DataFrame([fila1, fila2], columns = ['A', 'B'], index = ['X', 'Y'])\n",
    "\n",
    "print(df)\n",
    "\n",
    "suma_filas = df.sum(axis = 1)\n",
    "suma_columnas = df.sum(axis = 0)\n",
    "\n",
    "print(suma_filas)\n",
    "\n",
    "print(suma_columnas)\n",
    "\n",
    "total = df.sum().sum()\n",
    "print(total)\n",
    "\n",
    "\n"
   ]
  },
  {
   "cell_type": "code",
   "execution_count": 4,
   "metadata": {},
   "outputs": [
    {
     "name": "stdout",
     "output_type": "stream",
     "text": [
      "[[1.71812081 1.         2.75      ]\n",
      " [0.92086331 0.52083333 1.47560976]]\n",
      "8.38542720415254\n"
     ]
    }
   ],
   "source": [
    "import numpy as np\n",
    "\n",
    "obs = np.array([[165, 20, 33], [262, 53, 93]])\n",
    "exp = np.array([[149, 25, 44], [278, 48, 82]])\n",
    "\n",
    "xi2 = ((obs - exp)**2 / exp)\n",
    "print(xi2)\n",
    "\n",
    "xi2 = xi2.sum()\n",
    "print(xi2)"
   ]
  },
  {
   "cell_type": "code",
   "execution_count": 5,
   "metadata": {},
   "outputs": [
    {
     "name": "stdout",
     "output_type": "stream",
     "text": [
      "                Sin daño  Daño menor  Daño serio\n",
      "Usando casco         165          20          33\n",
      "Sin usar casco       262          53          93\n",
      "Chi-cuadrado: 8.653833570525151\n",
      "p-valor: 0.013208208517685652\n",
      "Grados de libertad: 2\n",
      "Frecuencias esperadas:\n",
      "[[148.69968051  25.42172524  43.87859425]\n",
      " [278.30031949  47.57827476  82.12140575]]\n",
      "Hay evidencia de una diferencia en las frecuencias relativas de los diferentes tipos de daño entre los dos grupos.\n"
     ]
    }
   ],
   "source": [
    "from scipy.stats import chi2_contingency\n",
    "\n",
    "# Crear la tabla de contingencia\n",
    "data = pd.DataFrame({\n",
    "    'Sin daño': [165, 262],\n",
    "    'Daño menor': [20, 53],\n",
    "    'Daño serio': [33, 93]\n",
    "}, index=['Usando casco', 'Sin usar casco'])\n",
    "\n",
    "print(data)\n",
    "\n",
    "# Realizar la prueba de chi-cuadrado\n",
    "chi2, p, dof, expected = chi2_contingency(data)\n",
    "\n",
    "print(f\"Chi-cuadrado: {chi2}\")\n",
    "print(f\"p-valor: {p}\")\n",
    "print(f\"Grados de libertad: {dof}\")\n",
    "print(\"Frecuencias esperadas:\")\n",
    "print(expected)\n",
    "\n",
    "# Evaluar el resultado\n",
    "if p < 0.05:\n",
    "    print(\"Hay evidencia de una diferencia en las frecuencias relativas de los diferentes tipos de daño entre los dos grupos.\")\n",
    "else:\n",
    "    print(\"No hay evidencia de una diferencia en las frecuencias relativas de los diferentes tipos de daño entre los dos grupos.\")"
   ]
  },
  {
   "cell_type": "code",
   "execution_count": 6,
   "metadata": {},
   "outputs": [],
   "source": [
    "def rank(list1, list2):\n",
    "\n",
    "    rank = list1 + list2\n",
    "    rank.sort()\n",
    "\n",
    "    list1.sort()\n",
    "    list2.sort()\n",
    "\n",
    "    matrix1 = []\n",
    "    for i in range(len(list1)):\n",
    "        matrix1.append([list1[i], \"x\"])\n",
    "\n",
    "    matrix2 = []\n",
    "    for i in range(len(list2)):\n",
    "        matrix2.append([list2[i], \"y\"])\n",
    "\n",
    "    matrix = matrix1 + matrix2\n",
    "    matrix.sort()\n",
    "\n",
    "    sorted_matrix = []\n",
    "\n",
    "    # Assign rank\n",
    "    for i in range(len(matrix)):\n",
    "        sorted_matrix.append([matrix[i][0], matrix[i][1], i + 1])\n",
    "\n",
    "    # Add counts for 'x'\n",
    "    for i in range(len(sorted_matrix)):\n",
    "        if sorted_matrix[i][1] == \"x\":\n",
    "            count = sum(1 for j in range(i) if sorted_matrix[j][1] == \"y\" and sorted_matrix[j][0] < sorted_matrix[i][0])\n",
    "            sorted_matrix[i].append(count)\n",
    "        else:\n",
    "            sorted_matrix[i].append(0)\n",
    "\n",
    "    # Print the table\n",
    "    print(\"Value\\tType\\tRank\\tCount\")\n",
    "    for row in sorted_matrix:\n",
    "        print(f\"{row[0]}\\t{row[1]}\\t{row[2]}\\t{row[3]}\")\n",
    "\n",
    "    # Calculate sum of ranks for list1 > list2\n",
    "    sum_ranks = sum(row[2] for row in sorted_matrix if row[1] == \"x\")\n",
    "    sum_counts = sum(row[3] for row in sorted_matrix if row[1] != \"-\")\n",
    "\n",
    "    print(f\"\\nsum_ranks list1 > list2 Wx = {sum_ranks}\")\n",
    "    print(f\"sum_counts Ux = {sum_counts}\")"
   ]
  },
  {
   "cell_type": "code",
   "execution_count": 7,
   "metadata": {},
   "outputs": [],
   "source": [
    "def sum_rank(rank):\n",
    "    sum = 0\n",
    "    for i in rank:\n",
    "        sum += i\n",
    "    return sum"
   ]
  },
  {
   "cell_type": "code",
   "execution_count": 8,
   "metadata": {},
   "outputs": [],
   "source": [
    "def Wilcoxon(nx, ny, rank):\n",
    "    Wx = sum_rank(rank)\n",
    "    Ex = nx * (nx + ny + 1) / 2\n",
    "    Vx = nx * ny * (nx + ny + 1) / 12\n",
    "    Zx = (Wx - Ex) / (Vx ** 0.5)\n",
    "    print(f'Wx: {Wx}\\nEx: {Ex}\\nVx: {Vx}\\nZ: {Zx}')\n",
    "    return Zx"
   ]
  },
  {
   "cell_type": "code",
   "execution_count": 9,
   "metadata": {},
   "outputs": [],
   "source": [
    "def MannWhitney(nx, ny, rank):\n",
    "    Ux = sum_rank(rank)\n",
    "    Ex = nx * ny / 2\n",
    "    Vx = nx * ny * (nx + ny + 1) / 12\n",
    "    Zx = (Ux - Ex) / (Vx ** 0.5)\n",
    "    print(f'Ux: {Ux}\\nEx: {Ex}\\nVx: {Vx}\\nZ: {Zx}')\n",
    "    return Zx "
   ]
  },
  {
   "cell_type": "code",
   "execution_count": 10,
   "metadata": {},
   "outputs": [],
   "source": [
    "def both(nx, ny, rankW, rankU):\n",
    "    print('Wilcoxon:')\n",
    "    Wilcoxon(nx, ny, rankW)\n",
    "    print('\\nMann-Whitney:')\n",
    "    MannWhitney(nx, ny, rankU)"
   ]
  },
  {
   "cell_type": "markdown",
   "metadata": {},
   "source": [
    "## Ejercio 5"
   ]
  },
  {
   "cell_type": "code",
   "execution_count": 11,
   "metadata": {},
   "outputs": [
    {
     "name": "stdout",
     "output_type": "stream",
     "text": [
      "Value\tType\tRank\tCount\n",
      "3.5\tx\t1\t0\n",
      "3.8\tx\t2\t0\n",
      "4\ty\t3\t0\n",
      "4\ty\t4\t0\n",
      "4\ty\t5\t0\n",
      "4\ty\t6\t0\n",
      "4\ty\t7\t0\n",
      "4\ty\t8\t0\n",
      "4.5\tx\t9\t6\n",
      "5.1\tx\t10\t6\n",
      "5.3\tx\t11\t6\n",
      "7.2\tx\t12\t6\n",
      "\n",
      "sum_ranks list1 > list2 Wx = 45\n",
      "sum_counts Ux = 24\n"
     ]
    }
   ],
   "source": [
    "list1 = [3.8, 5.3, 3.5, 4.5, 7.2, 5.1]\n",
    "list2 = [4, 4, 4, 4, 4, 4]\n",
    "\n",
    "rank(list1, list2)"
   ]
  },
  {
   "cell_type": "code",
   "execution_count": 12,
   "metadata": {},
   "outputs": [
    {
     "name": "stdout",
     "output_type": "stream",
     "text": [
      "Wilcoxon:\n",
      "Wx: 45\n",
      "Ex: 39.0\n",
      "Vx: 39.0\n",
      "Z: 0.9607689228305227\n",
      "\n",
      "Mann-Whitney:\n",
      "Ux: 24\n",
      "Ex: 18.0\n",
      "Vx: 39.0\n",
      "Z: 0.9607689228305227\n"
     ]
    }
   ],
   "source": [
    "both(6, 6, [45], [24])"
   ]
  },
  {
   "cell_type": "markdown",
   "metadata": {},
   "source": [
    "## Ejercicio 6"
   ]
  },
  {
   "cell_type": "code",
   "execution_count": 13,
   "metadata": {},
   "outputs": [
    {
     "name": "stdout",
     "output_type": "stream",
     "text": [
      "Value\tType\tRank\tCount\n",
      "10.7\ty\t1\t0\n",
      "11.8\ty\t2\t0\n",
      "12.6\ty\t3\t0\n",
      "12.9\ty\t4\t0\n",
      "14.1\ty\t5\t0\n",
      "14.7\ty\t6\t0\n",
      "15.2\ty\t7\t0\n",
      "15.9\ty\t8\t0\n",
      "16.1\tx\t9\t8\n",
      "16.4\tx\t10\t8\n",
      "17.8\tx\t11\t8\n",
      "18.3\tx\t12\t8\n",
      "18.9\tx\t13\t8\n",
      "19.6\ty\t14\t0\n",
      "20.5\ty\t15\t0\n",
      "22.7\tx\t16\t10\n",
      "24.2\tx\t17\t10\n",
      "25.3\tx\t18\t10\n",
      "\n",
      "sum_ranks list1 > list2 Wx = 106\n",
      "sum_counts Ux = 70\n"
     ]
    }
   ],
   "source": [
    "list1 = [18.3, 16.4, 22.7, 17.8, 18.9, 25.3, 16.1, 24.2]\n",
    "list2 = [12.6, 14.1, 20.5, 10.7, 15.9, 19.6, 12.9, 15.2, 11.8, 14.70]\n",
    "\n",
    "rank(list1, list2)"
   ]
  },
  {
   "cell_type": "code",
   "execution_count": 14,
   "metadata": {},
   "outputs": [
    {
     "name": "stdout",
     "output_type": "stream",
     "text": [
      "Wilcoxon:\n",
      "Wx: 106\n",
      "Ex: 76.0\n",
      "Vx: 126.66666666666667\n",
      "Z: 2.665569949915916\n",
      "\n",
      "Mann-Whitney:\n",
      "Ux: 70\n",
      "Ex: 40.0\n",
      "Vx: 126.66666666666667\n",
      "Z: 2.665569949915916\n",
      "p_value: 0.0037925623476854353\n"
     ]
    }
   ],
   "source": [
    "rankW = [9, 10, 11, 12, 13, 16, 17, 18]\n",
    "rankU = [8, 8, 8, 8, 8, 10, 10, 10]\n",
    "\n",
    "both(8, 10, rankW, rankU)\n",
    "\n",
    "# p value\n",
    "from scipy.stats import norm\n",
    "p_value = (1 - norm.cdf(2.67))\n",
    "print(f'p_value: {p_value}')"
   ]
  },
  {
   "cell_type": "markdown",
   "metadata": {},
   "source": [
    "# Ejercicio 7"
   ]
  },
  {
   "cell_type": "code",
   "execution_count": 15,
   "metadata": {},
   "outputs": [
    {
     "name": "stdout",
     "output_type": "stream",
     "text": [
      "Wilcoxon:\n",
      "Wx: 43\n",
      "Ex: 52.5\n",
      "Vx: 61.25\n",
      "Z: -1.2138654734998857\n",
      "\n",
      "Mann-Whitney:\n",
      "Ux: 15\n",
      "Ex: 24.5\n",
      "Vx: 61.25\n",
      "Z: -1.2138654734998857\n",
      "p_value: 0.11313944644397739\n"
     ]
    }
   ],
   "source": [
    "rankW = [1, 2, 6, 7, 8, 9, 10]\n",
    "rankU = [3, 3, 3, 3, 3]\n",
    "\n",
    "both(7, 7, rankW, rankU)\n",
    "\n",
    "# p value\n",
    "from scipy.stats import norm\n",
    "p_value = norm.cdf(-1.21)\n",
    "print(f'p_value: {p_value}')"
   ]
  },
  {
   "cell_type": "markdown",
   "metadata": {},
   "source": [
    "# Ejercicio 8"
   ]
  },
  {
   "cell_type": "code",
   "execution_count": 16,
   "metadata": {},
   "outputs": [
    {
     "name": "stdout",
     "output_type": "stream",
     "text": [
      "Value\tType\tRank\tCount\n",
      "711\ty\t1\t0\n",
      "889\ty\t2\t0\n",
      "1022\ty\t3\t0\n",
      "1215\tx\t4\t3\n",
      "1321\ty\t5\t0\n",
      "1433\ty\t6\t0\n",
      "1476\tx\t7\t5\n",
      "1698\tx\t8\t5\n",
      "1842\ty\t9\t0\n",
      "2109\tx\t10\t6\n",
      "2404\tx\t11\t6\n",
      "2629\tx\t12\t6\n",
      "\n",
      "sum_ranks list1 > list2 Wx = 52\n",
      "sum_counts Ux = 31\n"
     ]
    }
   ],
   "source": [
    "descuento = [1215, 1698, 2629, 1476, 2404, 2109]\n",
    "sin_descuento = [1433, 889, 1321, 1842, 711, 1022]\n",
    "\n",
    "rank(descuento, sin_descuento)"
   ]
  },
  {
   "cell_type": "code",
   "execution_count": 22,
   "metadata": {},
   "outputs": [
    {
     "name": "stdout",
     "output_type": "stream",
     "text": [
      "Wilcoxon:\n",
      "Wx: 52\n",
      "Ex: 39.0\n",
      "Vx: 39.0\n",
      "Z: 2.0816659994661326\n",
      "\n",
      "Mann-Whitney:\n",
      "Ux: 31\n",
      "Ex: 18.0\n",
      "Vx: 39.0\n",
      "Z: 2.0816659994661326\n"
     ]
    }
   ],
   "source": [
    "both(6, 6, rankW = [52], rankU = [31])"
   ]
  },
  {
   "cell_type": "code",
   "execution_count": 18,
   "metadata": {},
   "outputs": [
    {
     "name": "stdout",
     "output_type": "stream",
     "text": [
      "p_value: 0.018762766434937794\n"
     ]
    }
   ],
   "source": [
    "p_value = 1 - norm.cdf(2.08)\n",
    "print(f'p_value: {p_value}')"
   ]
  },
  {
   "cell_type": "markdown",
   "metadata": {},
   "source": [
    "## Ejercicio 13"
   ]
  },
  {
   "cell_type": "code",
   "execution_count": 19,
   "metadata": {},
   "outputs": [
    {
     "name": "stdout",
     "output_type": "stream",
     "text": [
      "Value\tType\tRank\tCount\n",
      "-2.604\tx\t1\t0\n",
      "-2.594\tx\t2\t0\n",
      "-2.346\ty\t3\t0\n",
      "-1.921\tx\t4\t1\n",
      "-1.756\tx\t5\t1\n",
      "-1.449\tx\t6\t1\n",
      "-1.113\ty\t7\t0\n",
      "-0.695\tx\t8\t2\n",
      "-0.676\tx\t9\t2\n",
      "-0.624\tx\t10\t2\n",
      "-0.555\tx\t11\t2\n",
      "-0.157\tx\t12\t2\n",
      "0.207\ty\t13\t0\n",
      "0.356\ty\t14\t0\n",
      "0.442\tx\t15\t4\n",
      "0.786\tx\t16\t4\n",
      "0.873\ty\t17\t0\n",
      "0.897\ty\t18\t0\n",
      "0.932\tx\t19\t6\n",
      "0.932\tx\t20\t6\n",
      "1.074\ty\t21\t0\n",
      "1.125\ty\t22\t0\n",
      "1.629\ty\t23\t0\n",
      "1.691\tx\t24\t9\n",
      "1.697\tx\t25\t9\n",
      "1.777\tx\t26\t9\n",
      "1.796\ty\t27\t0\n",
      "2.015\ty\t28\t0\n",
      "2.174\ty\t29\t0\n",
      "2.315\ty\t30\t0\n",
      "2.63\ty\t31\t0\n",
      "2.737\ty\t32\t0\n",
      "2.961\tx\t33\t15\n",
      "2.976\tx\t34\t15\n",
      "3.178\ty\t35\t0\n",
      "3.61\ty\t36\t0\n",
      "3.714\ty\t37\t0\n",
      "4.559\ty\t38\t0\n",
      "4.847\ty\t39\t0\n",
      "6.297\tx\t40\t20\n",
      "\n",
      "sum_ranks list1 > list2 Wx = 320\n",
      "sum_counts Ux = 110\n"
     ]
    }
   ],
   "source": [
    "# Datos de las muestras\n",
    "muestra_X = [-2.604, -2.594, -1.921, -1.756, -1.449, \n",
    "             -0.695, -0.676, -0.624, -0.555, -0.157, \n",
    "              0.442,  0.786,  0.932,  0.932,  1.691,\n",
    "              1.697,  1.777,  2.961,  2.976,  6.297]\n",
    "\n",
    "muestra_Y = [-2.346, -1.113, 0.207, 0.356, 0.873,\n",
    "              0.897, 1.074, 1.125, 1.629, 1.796,\n",
    "              2.015, 2.174, 2.315, 2.630, 2.737,\n",
    "              3.178, 3.610, 3.714, 4.559, 4.847]\n",
    "\n",
    "rank(muestra_X, muestra_Y)"
   ]
  },
  {
   "cell_type": "code",
   "execution_count": 20,
   "metadata": {},
   "outputs": [
    {
     "name": "stdout",
     "output_type": "stream",
     "text": [
      "Wilcoxon:\n",
      "Wx: 320\n",
      "Ex: 410.0\n",
      "Vx: 1366.6666666666667\n",
      "Z: -2.434508013602067\n",
      "\n",
      "Mann-Whitney:\n",
      "Ux: 110\n",
      "Ex: 200.0\n",
      "Vx: 1366.6666666666667\n",
      "Z: -2.434508013602067\n"
     ]
    }
   ],
   "source": [
    "rankW = [1, 2, 4, 5, 6, 8, 9, 10, 11, 12, 15, 16, 19, 20, 24, 25, 26, 33, 34, 40]\n",
    "rankU = [110]\n",
    "\n",
    "both(20, 20, rankW, rankU)"
   ]
  },
  {
   "cell_type": "markdown",
   "metadata": {},
   "source": [
    "## Ejercicio 14"
   ]
  },
  {
   "cell_type": "code",
   "execution_count": 21,
   "metadata": {},
   "outputs": [
    {
     "name": "stdout",
     "output_type": "stream",
     "text": [
      "Wilcoxon:\n",
      "Wx: 32\n",
      "Ex: 25.0\n",
      "Vx: 16.666666666666668\n",
      "Z: 1.7146428199482247\n",
      "\n",
      "Mann-Whitney:\n",
      "Ux: 17\n",
      "Ex: 10.0\n",
      "Vx: 16.666666666666668\n",
      "Z: 1.7146428199482247\n"
     ]
    }
   ],
   "source": [
    "rankW = [3, 5, 7, 8, 9]\n",
    "rankU = [2, 3, 4, 4, 4]\n",
    "\n",
    "both(5, 4, rankW, rankU)"
   ]
  }
 ],
 "metadata": {
  "kernelspec": {
   "display_name": "Python 3",
   "language": "python",
   "name": "python3"
  },
  "language_info": {
   "codemirror_mode": {
    "name": "ipython",
    "version": 3
   },
   "file_extension": ".py",
   "mimetype": "text/x-python",
   "name": "python",
   "nbconvert_exporter": "python",
   "pygments_lexer": "ipython3",
   "version": "3.12.1"
  }
 },
 "nbformat": 4,
 "nbformat_minor": 2
}
