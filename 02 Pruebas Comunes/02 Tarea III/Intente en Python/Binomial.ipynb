{
 "cells": [
  {
   "cell_type": "code",
   "execution_count": null,
   "metadata": {},
   "outputs": [
    {
     "name": "stdout",
     "output_type": "stream",
     "text": [
      "Binomial: The probability between 88 and 108 is 0.23818771933157312\n",
      "Normal Approximation: The probability between -0.8500596243286052 and 1.9834724567667454 is 0.22130330922566233\n",
      "Normal Approximation: The probability between -0.7792213223012214 and 1.9126341547393617 is 0.24582212794624447\n"
     ]
    }
   ],
   "source": [
    "from scipy.stats import binom, norm\n",
    "\n",
    "def calculate_probabilities(n, p, top, bottom):\n",
    "    # Calculate the cumulative probabilities using the binomial distribution\n",
    "    prob_top = binom.cdf(top, n, p)\n",
    "    prob_bottom = binom.cdf(bottom, n, p)\n",
    "    prob_between_binom = 1 - (prob_top - prob_bottom)\n",
    "    print(f'Binomial: The probability between {bottom} and {top} is {prob_between_binom}')\n",
    "\n",
    "    # Calculate the mean and standard deviation for the normal approximation\n",
    "    mean = n * p\n",
    "    std_dev = (n * p * (1 - p)) ** 0.5\n",
    "\n",
    "    # Calculate the z-scores\n",
    "    z_top = (top - mean) / std_dev\n",
    "    z_bottom = (bottom - mean) / std_dev\n",
    "\n",
    "    # Calculate the cumulative probabilities using the normal distribution\n",
    "    prob_top_approx = norm.cdf(z_top)\n",
    "    prob_bottom_approx = norm.cdf(z_bottom)\n",
    "    prob_between_norm = 1 - (prob_top_approx - prob_bottom_approx)\n",
    "    print(f'Normal Approximation: The probability between {z_bottom} and {z_top} is {prob_between_norm}')\n",
    "\n",
    "    # Calculate the approximation with the continuity correction\n",
    "    z_top = (top - 0.5 - mean) / std_dev\n",
    "    z_bottom = (bottom + 0.5 - mean) / std_dev\n",
    "\n",
    "    prob_top_approx = norm.cdf(z_top)\n",
    "    prob_bottom_approx = norm.cdf(z_bottom)\n",
    "    prob_between_norm = 1 - (prob_top_approx - prob_bottom_approx)\n",
    "    print(f'Normal Approximation: The probability between {z_bottom} and {z_top} is {prob_between_norm}')\n",
    "\n",
    "\n",
    "\n",
    "# Example usage\n",
    "n = 200\n",
    "p = 0.47\n",
    "top = 108\n",
    "bottom = 88\n",
    "\n",
    "calculate_probabilities(n, p, top, bottom)"
   ]
  }
 ],
 "metadata": {
  "kernelspec": {
   "display_name": "Python 3",
   "language": "python",
   "name": "python3"
  },
  "language_info": {
   "codemirror_mode": {
    "name": "ipython",
    "version": 3
   },
   "file_extension": ".py",
   "mimetype": "text/x-python",
   "name": "python",
   "nbconvert_exporter": "python",
   "pygments_lexer": "ipython3",
   "version": "3.12.1"
  }
 },
 "nbformat": 4,
 "nbformat_minor": 2
}
